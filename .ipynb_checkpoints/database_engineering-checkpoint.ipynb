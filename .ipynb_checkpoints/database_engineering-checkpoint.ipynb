{
 "cells": [
  {
   "cell_type": "markdown",
   "metadata": {},
   "source": [
    "## Step 2 - Database Engineering\n",
    "\n",
    "Use SQLAlchemy to model your table schemas and create a sqlite database for your tables. You will need one table for measurements and one for stations.\n",
    "\n",
    "* Create a Jupyter Notebook called `database_engineering.ipynb` and use this to complete all of your Database Engineering work.\n",
    "\n",
    "* Use Pandas to read your cleaned measurements and stations CSV data.\n",
    "\n",
    "* Use the `engine` and connection string to create a database called `hawaii.sqlite`.\n",
    "\n",
    "* Use `declarative_base` and create ORM classes for each table.\n",
    "\n",
    "  * You will need a class for `Measurement` and for `Station`.\n",
    "\n",
    "  * Make sure to define your primary keys.\n",
    "\n",
    "* Once you have your ORM classes defined, create the tables in the database using `create_all`."
   ]
  },
  {
   "cell_type": "code",
   "execution_count": 19,
   "metadata": {},
   "outputs": [],
   "source": [
    "# Dependencies\n",
    "import pandas as pd\n",
    "from datetime import datetime\n",
    "import sqlalchemy\n",
    "from sqlalchemy import create_engine, MetaData, func #connect to database\n",
    "from sqlalchemy.ext.declarative import declarative_base #classes into tables\n",
    "from sqlalchemy import Column, Integer, String, Float, DateTime #allow us to declare column typs\n",
    "from sqlalchemy.orm import Session\n",
    "from sqlalchemy.ext.automap import automap_base\n",
    "import pymysql\n",
    "\n",
    "pymysql.install_as_MySQLdb() # starts creating connection from Python to SQL database"
   ]
  },
  {
   "cell_type": "code",
   "execution_count": 20,
   "metadata": {
    "collapsed": true
   },
   "outputs": [],
   "source": [
    "# Create a reference the CSV file\n",
    "measurementFile = 'resources/clean_hawaii_measurements.csv'\n",
    "stationFile = 'resources/clean_hawaii_stations.csv'\n",
    "\n",
    "# Load the cleaned csv file into a pandas dataframe\n",
    "measurementDF = pd.read_csv(measurementFile)\n",
    "stationDF = pd.read_csv(stationFile)\n",
    "\n",
    "# Use Orient='records' to create a list of data to write\n",
    "# to_dict() cleans out DataFrame metadata as well\n",
    "measurementData = measurementDF.to_dict(orient='records')\n",
    "stationData = stationDF.to_dict(orient='records')"
   ]
  },
  {
   "cell_type": "code",
   "execution_count": 21,
   "metadata": {
    "collapsed": true
   },
   "outputs": [],
   "source": [
    "# Create our database engine\n",
    "engine = create_engine('sqlite:///hawaii.sqlite')\n",
    "conn = engine.connect()\n",
    "\n",
    "# Create base\n",
    "Base = declarative_base() #object that utilizes the default for declarative base\n",
    "\n",
    "# Create ORM classes\n",
    "class Measurement(Base):\n",
    "    __tablename__='measurement'\n",
    "    id = Column(Integer, primary_key=True)\n",
    "    station = Column(String(255))\n",
    "    date = Column(String(255))\n",
    "    prcp = Column(Float(5,5))\n",
    "    tobs = Column(Integer)\n",
    "    \n",
    "    def __repr__(self):\n",
    "        return f'id={self.id},station={self.station},date={self.date},prcp={self.prcp},tobs={self.tobs}'\n",
    "\n",
    "#format='%Y-%m-%d'\n",
    "    \n",
    "class Station(Base):\n",
    "    __tablename__='station'\n",
    "    id = Column(Integer, primary_key=True)\n",
    "    station = Column(String(255))\n",
    "    name = Column(String(255))\n",
    "    latitude = Column(Float(3,5))\n",
    "    longitude = Column(Float(3,5))\n",
    "    elevation = Column(Integer)\n",
    "    \n",
    "    def __repr__(self):\n",
    "        return f\"id={self.id},station={self.station},name={self.name},latitude={self.latitude},longitude={self.longitude},elevation={self.elevation}\""
   ]
  },
  {
   "cell_type": "code",
   "execution_count": 22,
   "metadata": {
    "collapsed": true
   },
   "outputs": [],
   "source": [
    "# Use MetaData from SQLAlchemy to reflect the tables\n",
    "metadata = MetaData(bind=engine)\n",
    "metadata.reflect()\n",
    "    \n",
    "# Use a Session to test the classes\n",
    "Base.metadata.create_all(engine)\n",
    "session = Session(bind=engine)\n",
    "\n",
    "# Save the reference to the sqlite tables as a variables\n",
    "measurementTable = sqlalchemy.Table('measurement', metadata, autoload=True)\n",
    "stationTable = sqlalchemy.Table('station', metadata, autoload=True)"
   ]
  },
  {
   "cell_type": "code",
   "execution_count": 23,
   "metadata": {},
   "outputs": [
    {
     "data": {
      "text/plain": [
       "<sqlalchemy.engine.result.ResultProxy at 0x108d8a160>"
      ]
     },
     "execution_count": 23,
     "metadata": {},
     "output_type": "execute_result"
    }
   ],
   "source": [
    "# Use `table.delete()` to remove any pre-existing data.\n",
    "# conn.execute(measurementTable.delete())\n",
    "conn.execute(stationTable.delete())"
   ]
  },
  {
   "cell_type": "code",
   "execution_count": 24,
   "metadata": {
    "scrolled": false
   },
   "outputs": [
    {
     "data": {
      "text/plain": [
       "<sqlalchemy.engine.result.ResultProxy at 0x113741da0>"
      ]
     },
     "execution_count": 24,
     "metadata": {},
     "output_type": "execute_result"
    }
   ],
   "source": [
    "# Use `table.insert()` to insert the data into the table\n",
    "# The SQL table is populated during this step\n",
    "conn.execute(measurementTable.insert(), measurementData)\n",
    "conn.execute(stationTable.insert(), stationData)"
   ]
  },
  {
   "cell_type": "code",
   "execution_count": 25,
   "metadata": {},
   "outputs": [
    {
     "data": {
      "text/html": [
       "<div>\n",
       "<style>\n",
       "    .dataframe thead tr:only-child th {\n",
       "        text-align: right;\n",
       "    }\n",
       "\n",
       "    .dataframe thead th {\n",
       "        text-align: left;\n",
       "    }\n",
       "\n",
       "    .dataframe tbody tr th {\n",
       "        vertical-align: top;\n",
       "    }\n",
       "</style>\n",
       "<table border=\"1\" class=\"dataframe\">\n",
       "  <thead>\n",
       "    <tr style=\"text-align: right;\">\n",
       "      <th></th>\n",
       "      <th>station</th>\n",
       "      <th>date</th>\n",
       "      <th>prcp</th>\n",
       "      <th>tobs</th>\n",
       "    </tr>\n",
       "  </thead>\n",
       "  <tbody>\n",
       "    <tr>\n",
       "      <th>0</th>\n",
       "      <td>USC00519397</td>\n",
       "      <td>2010-01-01</td>\n",
       "      <td>0.08</td>\n",
       "      <td>65</td>\n",
       "    </tr>\n",
       "    <tr>\n",
       "      <th>1</th>\n",
       "      <td>USC00519397</td>\n",
       "      <td>2010-01-02</td>\n",
       "      <td>0.00</td>\n",
       "      <td>63</td>\n",
       "    </tr>\n",
       "    <tr>\n",
       "      <th>2</th>\n",
       "      <td>USC00519397</td>\n",
       "      <td>2010-01-03</td>\n",
       "      <td>0.00</td>\n",
       "      <td>74</td>\n",
       "    </tr>\n",
       "    <tr>\n",
       "      <th>3</th>\n",
       "      <td>USC00519397</td>\n",
       "      <td>2010-01-04</td>\n",
       "      <td>0.00</td>\n",
       "      <td>76</td>\n",
       "    </tr>\n",
       "    <tr>\n",
       "      <th>4</th>\n",
       "      <td>USC00519397</td>\n",
       "      <td>2010-01-06</td>\n",
       "      <td>0.00</td>\n",
       "      <td>73</td>\n",
       "    </tr>\n",
       "  </tbody>\n",
       "</table>\n",
       "</div>"
      ],
      "text/plain": [
       "       station        date  prcp  tobs\n",
       "0  USC00519397  2010-01-01  0.08    65\n",
       "1  USC00519397  2010-01-02  0.00    63\n",
       "2  USC00519397  2010-01-03  0.00    74\n",
       "3  USC00519397  2010-01-04  0.00    76\n",
       "4  USC00519397  2010-01-06  0.00    73"
      ]
     },
     "execution_count": 25,
     "metadata": {},
     "output_type": "execute_result"
    }
   ],
   "source": [
    "measurementDF.head()"
   ]
  },
  {
   "cell_type": "code",
   "execution_count": 28,
   "metadata": {},
   "outputs": [],
   "source": [
    "# s = datetime.strptime(start,'%Y-%m-%d')\n",
    "\n",
    "try:\n",
    "    e = datetime.strptime(end,'%Y-%m-%d')\n",
    "    endDate = True\n",
    "except NameError:\n",
    "    pass\n",
    "\n",
    "# Select data\n",
    "sel = [\n",
    "        Measurement.date,\n",
    "        func.avg(Measurement.tobs),\n",
    "        func.min(Measurement.tobs),\n",
    "        func.max(Measurement.tobs)\n",
    "      ]\n",
    "\n",
    "# if endDate == True:\n",
    "results = session.query(*sel).\\\n",
    "    filter(Measurement.date).\\\n",
    "    group_by(Measurement.date).\\\n",
    "    order_by(Measurement.date).all()"
   ]
  },
  {
   "cell_type": "raw",
   "metadata": {},
   "source": []
  }
 ],
 "metadata": {
  "kernelspec": {
   "display_name": "Python 3",
   "language": "python",
   "name": "python3"
  },
  "language_info": {
   "codemirror_mode": {
    "name": "ipython",
    "version": 3
   },
   "file_extension": ".py",
   "mimetype": "text/x-python",
   "name": "python",
   "nbconvert_exporter": "python",
   "pygments_lexer": "ipython3",
   "version": "3.6.3"
  }
 },
 "nbformat": 4,
 "nbformat_minor": 2
}
