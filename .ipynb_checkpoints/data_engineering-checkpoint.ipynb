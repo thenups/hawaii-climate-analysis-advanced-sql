{
 "cells": [
  {
   "cell_type": "markdown",
   "metadata": {},
   "source": [
    "## Step 1 - Data Engineering\n",
    "\n",
    "The climate data for Hawaii is provided through two CSV files. Start by using Python and Pandas to inspect the content of these files and clean the data.\n",
    "\n",
    "* Create a Jupyter Notebook file called `data_engineering.ipynb` and use this to complete all of your Data Engineering tasks.\n",
    "\n",
    "* Use Pandas to read in the measurement and station CSV files as DataFrames.\n",
    "\n",
    "* Inspect the data for NaNs and missing values. You must decide what to do with this data.\n",
    "\n",
    "* Save your cleaned CSV files with the prefix `clean_`."
   ]
  },
  {
   "cell_type": "code",
   "execution_count": 7,
   "metadata": {
    "collapsed": true
   },
   "outputs": [],
   "source": [
    "# Dependencies\n",
    "import pandas as pd\n",
    "from datetime import datetime"
   ]
  },
  {
   "cell_type": "code",
   "execution_count": 8,
   "metadata": {
    "collapsed": true
   },
   "outputs": [],
   "source": [
    "# Create a reference the CSV file\n",
    "measurementFile = 'resources/hawaii_measurements.csv'\n",
    "stationFile = 'resources/hawaii_stations.csv'\n",
    "\n",
    "# Read the CSV into a Pandas DataFrame\n",
    "measurementDF = pd.read_csv(measurementFile)\n",
    "stationDF = pd.read_csv(stationFile)"
   ]
  },
  {
   "cell_type": "code",
   "execution_count": 9,
   "metadata": {
    "collapsed": true
   },
   "outputs": [],
   "source": [
    "# Change NaN rows in measurementDF to 0 \n",
    "measurementDF = measurementDF.fillna(0)\n",
    "\n",
    "# switch date column type to datetime\n",
    "measurementDF['date'] =  pd.to_datetime(measurementDF['date'], format='%Y-%m-%d')"
   ]
  },
  {
   "cell_type": "code",
   "execution_count": 10,
   "metadata": {
    "collapsed": true
   },
   "outputs": [],
   "source": [
    "# Save out to clean csv\n",
    "measurementDF.to_csv('resources/clean_hawaii_measurements.csv', index=False)\n",
    "stationDF.to_csv('resources/clean_hawaii_stations.csv', index=False)"
   ]
  }
 ],
 "metadata": {
  "kernelspec": {
   "display_name": "Python 3",
   "language": "python",
   "name": "python3"
  },
  "language_info": {
   "codemirror_mode": {
    "name": "ipython",
    "version": 3
   },
   "file_extension": ".py",
   "mimetype": "text/x-python",
   "name": "python",
   "nbconvert_exporter": "python",
   "pygments_lexer": "ipython3",
   "version": "3.6.3"
  }
 },
 "nbformat": 4,
 "nbformat_minor": 2
}
